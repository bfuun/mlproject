{
 "cells": [
  {
   "cell_type": "code",
   "execution_count": 9,
   "id": "e01b6701-49ee-4830-861b-5a3452322f37",
   "metadata": {},
   "outputs": [
    {
     "name": "stdout",
     "output_type": "stream",
     "text": [
      "Number of vowels: 3\n"
     ]
    }
   ],
   "source": [
    "def count_vowels(sentence):\n",
    "    vowels = 'aeiouAEIOU'\n",
    "    count = 0\n",
    "    for char in sentence:\n",
    "        if char in vowels:\n",
    "            count += 1\n",
    "    return count\n",
    "text = \"Hello World\"\n",
    "print(\"Number of vowels:\", count_vowels(text))"
   ]
  },
  {
   "cell_type": "code",
   "execution_count": 13,
   "id": "a37ad4ae-b0db-4352-93bc-61bc875800f6",
   "metadata": {},
   "outputs": [
    {
     "name": "stdout",
     "output_type": "stream",
     "text": [
      "30 is divisible by both 3 and 5\n"
     ]
    }
   ],
   "source": [
    "#Check whether a number is divisible by both 3 & 5\n",
    "def divisible_by_3_and_5(n):\n",
    "    return n % 3 == 0 and n % 5 == 0\n",
    "\n",
    "# Example:\n",
    "num = 30\n",
    "if divisible_by_3_and_5(num):\n",
    "    print(f\"{num} is divisible by both 3 and 5\")\n",
    "else:\n",
    "    print(f\"{num} is not divisible by both 3 and 5\")"
   ]
  },
  {
   "cell_type": "code",
   "execution_count": 15,
   "id": "b72418b2-41bd-4a20-b8d3-fda86f1c3119",
   "metadata": {},
   "outputs": [
    {
     "name": "stdout",
     "output_type": "stream",
     "text": [
      "2 4 6 8 10 12 14 16 18 20 22 24 26 28 30 32 34 36 38 40 42 44 46 48 50 52 54 56 58 60 62 64 66 68 70 72 74 76 78 80 82 84 86 88 90 92 94 96 98 100 "
     ]
    }
   ],
   "source": [
    "#Print all even numbers from 1 to 100\n",
    "for i in range(2, 101, 2):\n",
    "    print(i, end=' ')"
   ]
  },
  {
   "cell_type": "code",
   "execution_count": 17,
   "id": "ae2624b3-ee35-4d08-9da9-8e04eed2ae4d",
   "metadata": {},
   "outputs": [
    {
     "name": "stdout",
     "output_type": "stream",
     "text": [
      "Vowel\n",
      "Consonant\n"
     ]
    }
   ],
   "source": [
    "#Check if a character is vowel or consonant\n",
    "def check_vowel_or_consonant(char):\n",
    "    if char.lower() in 'aeiou':\n",
    "        return \"Vowel\"\n",
    "    elif char.isalpha():\n",
    "        return \"Consonant\"\n",
    "    else:\n",
    "        return \"Not an alphabet character\"\n",
    "\n",
    "print(check_vowel_or_consonant('A')) \n",
    "print(check_vowel_or_consonant('b'))  "
   ]
  },
  {
   "cell_type": "code",
   "execution_count": 19,
   "id": "d34f8ed4-9581-4e26-9ffc-9540b922abd1",
   "metadata": {},
   "outputs": [
    {
     "name": "stdout",
     "output_type": "stream",
     "text": [
      "0 1 1 2 3 5 8 13 21 34 "
     ]
    }
   ],
   "source": [
    "#Fibonacci recursive:\n",
    "def fibonacci(n):\n",
    "    if n <= 1:\n",
    "        return n\n",
    "    else:\n",
    "        return fibonacci(n-1) + fibonacci(n-2)\n",
    "for i in range(10):\n",
    "    print(fibonacci(i), end=' ')"
   ]
  },
  {
   "cell_type": "code",
   "execution_count": 23,
   "id": "cacacaeb-8249-4bc5-9474-a7d880f0e338",
   "metadata": {},
   "outputs": [
    {
     "name": "stdout",
     "output_type": "stream",
     "text": [
      "\n",
      "Factorial of 5: 120\n"
     ]
    }
   ],
   "source": [
    "#Factorial recursive:\n",
    "def factorial(n):\n",
    "    if n == 0 or n == 1:\n",
    "        return 1\n",
    "    else:\n",
    "        return n * factorial(n-1)\n",
    "print(\"\\nFactorial of 5:\", factorial(5))"
   ]
  },
  {
   "cell_type": "code",
   "execution_count": 25,
   "id": "0fa7fedc-c6cc-477a-83fd-bd8ba981e484",
   "metadata": {},
   "outputs": [
    {
     "name": "stdout",
     "output_type": "stream",
     "text": [
      "True\n",
      "False\n"
     ]
    }
   ],
   "source": [
    "def is_palindrome(s):\n",
    "    s = s.lower().replace(\" \", \"\")  \n",
    "    return s == s[::-1]\n",
    "print(is_palindrome(\"madam\"))     \n",
    "print(is_palindrome(\"hello\"))"
   ]
  },
  {
   "cell_type": "code",
   "execution_count": 31,
   "id": "652a7f77-daae-49b1-b2dc-bd3633b7a1f8",
   "metadata": {},
   "outputs": [
    {
     "name": "stdout",
     "output_type": "stream",
     "text": [
      "2024 is a leap year\n"
     ]
    }
   ],
   "source": [
    "#program to check if a year is a leap year using conditionals\n",
    "def is_leap_year(year):\n",
    "    if year % 4 == 0:\n",
    "        if year % 100 == 0:\n",
    "            if year % 400 == 0:\n",
    "                return True\n",
    "            else:\n",
    "                return False\n",
    "        else:\n",
    "            return True\n",
    "    else:\n",
    "        return False\n",
    "\n",
    "\n",
    "year = 2024\n",
    "print(f\"{year} is a leap year\" if is_leap_year(year) else f\"{year} is not a leap year.\")\n"
   ]
  },
  {
   "cell_type": "code",
   "execution_count": 33,
   "id": "f548e7fc-8f36-49d2-b69a-d362e932eeed",
   "metadata": {},
   "outputs": [
    {
     "name": "stdout",
     "output_type": "stream",
     "text": [
      "Hello\n"
     ]
    }
   ],
   "source": [
    "#Remove a string using if, elif, else\n",
    "\n",
    "def remove_substring(s, sub):\n",
    "    if sub in s:\n",
    "        return s.replace(sub, \"\")\n",
    "    else:\n",
    "        return s\n",
    "text = \"HelloWorld\"\n",
    "print(remove_substring(text, \"World\")) "
   ]
  },
  {
   "cell_type": "code",
   "execution_count": 35,
   "id": "cec14b3c-24e6-4f33-a586-a94c00393daf",
   "metadata": {},
   "outputs": [
    {
     "name": "stdout",
     "output_type": "stream",
     "text": [
      "* \n",
      "* * \n",
      "* * * \n",
      "* * * * \n",
      "* * * * * \n"
     ]
    }
   ],
   "source": [
    "#Use nested loops to print a triangle pattern\n",
    "rows = 5\n",
    "for i in range(1, rows + 1):\n",
    "    for j in range(i):\n",
    "        print(\"*\", end=\" \")\n",
    "    print()"
   ]
  },
  {
   "cell_type": "code",
   "execution_count": 37,
   "id": "3dab9241-8140-4510-8e98-caa36fc8d49c",
   "metadata": {},
   "outputs": [
    {
     "name": "stdout",
     "output_type": "stream",
     "text": [
      "29 is prime.\n"
     ]
    }
   ],
   "source": [
    "#Check if a number is prime using loops\n",
    "def is_prime(n):\n",
    "    if n <= 1:\n",
    "        return False\n",
    "    for i in range(2, int(n**0.5)+1):\n",
    "        if n % i == 0:\n",
    "            return False\n",
    "    return True\n",
    "\n",
    "num = 29\n",
    "print(f\"{num} is prime.\" if is_prime(num) else f\"{num} is not prime.\")"
   ]
  }
 ],
 "metadata": {
  "kernelspec": {
   "display_name": "Python [conda env:base] *",
   "language": "python",
   "name": "conda-base-py"
  },
  "language_info": {
   "codemirror_mode": {
    "name": "ipython",
    "version": 3
   },
   "file_extension": ".py",
   "mimetype": "text/x-python",
   "name": "python",
   "nbconvert_exporter": "python",
   "pygments_lexer": "ipython3",
   "version": "3.12.7"
  }
 },
 "nbformat": 4,
 "nbformat_minor": 5
}
